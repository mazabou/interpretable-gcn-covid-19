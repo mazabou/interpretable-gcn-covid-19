{
  "cells": [
    {
      "cell_type": "code",
      "source": [
        "import numpy as np\n",
        "import pandas as pd\n",
        "\n",
        "import pandas as pd\n",
        "import numpy as np\n",
        "from datetime import timedelta, date\n",
        "from tqdm import tqdm"
      ],
      "outputs": [],
      "execution_count": 36,
      "metadata": {}
    },
    {
      "cell_type": "code",
      "source": [
        "def daterange(start_date, end_date):\n",
        "    for n in range(int((end_date - start_date).days)):\n",
        "        yield start_date + timedelta(n)\n",
        "        \n",
        "start_date = date(2020, 2, 28)\n",
        "end_date = date(2020, 4, 30)"
      ],
      "outputs": [],
      "execution_count": 37,
      "metadata": {}
    },
    {
      "cell_type": "code",
      "source": [
        "flow_matrices = []\n",
        "\n",
        "for date_id, single_date in tqdm(enumerate(daterange(start_date, end_date))):\n",
        "    date_ = single_date.strftime(\"%Y-%m-%d\")\n",
        "    filename = '../COVIDExposureIndices/lex_data/county_lex_%s.csv.gz' % date_\n",
        "    df = pd.read_csv(filename)\n",
        "    fips = np.array(df.COUNTY_PRE)\n",
        "    flow_matrices.append(np.array(df)[:, 1:])"
      ],
      "outputs": [
        {
          "output_type": "stream",
          "name": "stderr",
          "text": [
            "62it [00:36,  1.70it/s]\n"
          ]
        }
      ],
      "execution_count": 38,
      "metadata": {
        "collapsed": false,
        "jupyter": {
          "outputs_hidden": false
        },
        "pycharm": {
          "name": "#%%\n"
        }
      }
    },
    {
      "cell_type": "code",
      "source": [
        "flow_feats = np.stack(flow_matrices)"
      ],
      "outputs": [],
      "execution_count": 120,
      "metadata": {}
    },
    {
      "cell_type": "code",
      "source": [
        "case_count_f = '../data/county_case_counts_time_series_data_%s.csv'\n",
        "mobility_f = '../data/mobility_%s.csv'\n",
        "unemploy_f = '../data/temporal_%s_2.csv'\n",
        "census_f = '../data/2019_county_level_population_data.csv'\n",
        "census65_f = '../data/population_with_age_gte_65.csv'\n",
        "location_f = '../data/county_locations.csv'"
      ],
      "outputs": [],
      "execution_count": 406,
      "metadata": {
        "collapsed": false,
        "jupyter": {
          "outputs_hidden": false
        },
        "pycharm": {
          "name": "#%%\n"
        }
      }
    },
    {
      "cell_type": "code",
      "source": [],
      "outputs": [],
      "execution_count": null,
      "metadata": {}
    },
    {
      "cell_type": "code",
      "source": [
        "subset = 'train'\n",
        "# temporal features\n",
        "df_count = pd.read_csv(case_count_f %subset, index_col=0)\n",
        "df_mobility = pd.read_csv(mobility_f %subset, index_col=0)\n",
        "df_unemploy = pd.read_csv(unemploy_f %subset, index_col=0)\n",
        "\n",
        "# static features\n",
        "df_census = pd.read_csv(census_f)\n",
        "df_census.us_census_population_2019 = df_census.us_census_population_2019.apply(lambda s: s.replace(',', ''))\n",
        "df_census65 = pd.read_csv(census65_f)\n",
        "df_census = df_census65.merge(df_census, on='FIPS')\n",
        "\n",
        "# location features\n",
        "df_location = pd.read_csv(location_f)"
      ],
      "outputs": [],
      "execution_count": 407,
      "metadata": {
        "collapsed": false,
        "jupyter": {
          "outputs_hidden": false
        },
        "pycharm": {
          "name": "#%%\n"
        }
      }
    },
    {
      "cell_type": "code",
      "source": [
        "np.where(fips==13215)"
      ],
      "outputs": [
        {
          "output_type": "execute_result",
          "execution_count": 558,
          "data": {
            "text/plain": "(array([350]),)"
          },
          "metadata": {}
        }
      ],
      "execution_count": 558,
      "metadata": {}
    },
    {
      "cell_type": "code",
      "source": [
        "fips[344]"
      ],
      "outputs": [
        {
          "output_type": "execute_result",
          "execution_count": 559,
          "data": {
            "text/plain": "13195"
          },
          "metadata": {}
        }
      ],
      "execution_count": 559,
      "metadata": {}
    },
    {
      "cell_type": "code",
      "source": [
        "fips_mobility = df_mobility.county_fips.unique()\n",
        "fips_loc = df_location.FIPS.unique()\n",
        "fips_census = df_census.FIPS.unique()\n",
        "fips_count = df_count.fips.unique()\n",
        "\n",
        "fips_census = df_census.FIPS.unique()\n",
        "fips\n"
      ],
      "outputs": [
        {
          "output_type": "execute_result",
          "execution_count": 402,
          "data": {
            "text/plain": "array([ 1001,  1003,  1005, ..., 56037, 56039, 56041])"
          },
          "metadata": {}
        }
      ],
      "execution_count": 402,
      "metadata": {}
    },
    {
      "cell_type": "code",
      "source": [
        "df_une"
      ],
      "outputs": [],
      "execution_count": null,
      "metadata": {}
    },
    {
      "cell_type": "code",
      "source": [
        "# geo_features: [num_counties, 2]\n",
        "# static_node_features: [num_counties, num_features]\n",
        "# node_features: [num_counties, num_days, num_features]\n",
        "# edge_features: [num_counties, num_counties, num_days]"
      ],
      "outputs": [],
      "execution_count": 403,
      "metadata": {}
    },
    {
      "cell_type": "code",
      "source": [
        "df_unemploy[(df_unemploy.county_fips==county) & (df_unemploy.Month==month)].unemploymentRate"
      ],
      "outputs": [
        {
          "output_type": "execute_result",
          "execution_count": 428,
          "data": {
            "text/plain": "1    2.790788\nName: unemploymentRate, dtype: float64"
          },
          "metadata": {}
        }
      ],
      "execution_count": 428,
      "metadata": {}
    },
    {
      "cell_type": "code",
      "source": [
        "# merge temp features\n",
        "fips_count.sort()\n",
        "y = []\n",
        "temp_node_feats = []\n",
        "static_node_feats = []\n",
        "geo_feats = []\n",
        "for county in tqdm(fips_count):\n",
        "    y.append(np.array(df_count[df_count.fips==county].case_count_rolling_average))\n",
        "    # death_counts = np.array(df_count[df_count.fips==county].death_count)\n",
        "    mobility_features = np.array(df_mobility[df_mobility.county_fips==county].fillna(0).iloc[:, 2:8])\n",
        "    \n",
        "    unemployment_features = []\n",
        "    for date_id, single_date in enumerate(daterange(start_date, end_date)):\n",
        "        month = single_date.month\n",
        "        try:\n",
        "            unemployment_features.append(np.array(df_unemploy[(df_unemploy.county_fips==county) & (df_unemploy.Month==month)].unemploymentRate)[0])\n",
        "        except:\n",
        "            unemployment_features.append(0.)\n",
        "            print(county, end=' ')\n",
        "    unemployment_features = np.array(unemployment_features)[:, np.newaxis]\n",
        "    temp_feats = np.concatenate([mobility_features, unemployment_features], axis=-1)\n",
        "    # add unemployement\n",
        "    temp_node_feats.append(temp_feats)\n",
        "    \n",
        "    static_node_feats.append(np.array(df_census[df_census.FIPS==county][['us_census_population_2019', 'pop_age_gte_65']]))\n",
        "    \n",
        "    geo_feats.append(np.array(df_location[df_location.FIPS==county].iloc[0, 3:]))"
      ],
      "outputs": [
        {
          "output_type": "stream",
          "name": "stderr",
          "text": [
            " 20%|██        | 601/2942 [00:29<01:54, 20.43it/s]"
          ]
        },
        {
          "output_type": "stream",
          "name": "stdout",
          "text": [
            "17073 17073 17073 17073 17073 17073 17073 17073 17073 17073 17073 17073 17073 17073 17073 17073 17073 17073 17073 17073 17073 17073 17073 17073 17073 17073 17073 17073 17073 "
          ]
        },
        {
          "output_type": "stream",
          "name": "stderr",
          "text": [
            " 44%|████▎     | 1282/2942 [01:02<01:18, 21.16it/s]"
          ]
        },
        {
          "output_type": "stream",
          "name": "stdout",
          "text": [
            "27075 27075 27075 27075 27075 27075 27075 27075 27075 27075 27075 27075 27075 27075 27075 27075 27075 27075 27075 27075 27075 27075 27075 27075 27075 27075 27075 27075 27075 "
          ]
        },
        {
          "output_type": "stream",
          "name": "stderr",
          "text": [
            " 87%|████████▋ | 2558/2942 [02:03<00:18, 21.18it/s]"
          ]
        },
        {
          "output_type": "stream",
          "name": "stdout",
          "text": [
            "48423 48423 48423 48423 48423 48423 48423 48423 48423 48423 48423 48423 48423 48423 48423 48423 48423 48423 48423 48423 48423 48423 48423 48423 48423 48423 48423 48423 48423 "
          ]
        },
        {
          "output_type": "stream",
          "name": "stderr",
          "text": [
            " 93%|█████████▎| 2729/2942 [02:11<00:10, 20.90it/s]"
          ]
        },
        {
          "output_type": "stream",
          "name": "stdout",
          "text": [
            "51570 51570 51570 51570 51570 51570 51570 51570 51570 51570 51570 51570 51570 51570 51570 51570 51570 51570 51570 51570 51570 51570 51570 51570 51570 51570 51570 51570 51570 51570 51570 51570 51570 51570 51570 51570 51570 51570 51570 51570 51570 51570 51570 51570 51570 51570 51570 51570 51570 51570 51570 51570 51570 51570 51570 51570 51570 51570 51570 51570 51570 51570 "
          ]
        },
        {
          "output_type": "stream",
          "name": "stderr",
          "text": [
            "100%|██████████| 2942/2942 [02:21<00:00, 20.74it/s]\n"
          ]
        }
      ],
      "execution_count": 442,
      "metadata": {}
    },
    {
      "cell_type": "code",
      "source": [
        "train_data = {'y': y, # num_counties, num_days\n",
        "             'edge_matrix': day_edge_matrix,  # num_days, num_counties, num_counties\n",
        "             #'geo_feat': geo_feats, # num_couties, 2\n",
        "             'static_node_feats': static_node_feats, # num_counties, num_features\n",
        "             'temp_node_feats': temp_node_feats,} # num_counties, num_days, num_features"
      ],
      "outputs": [],
      "execution_count": 449,
      "metadata": {}
    },
    {
      "cell_type": "code",
      "source": [],
      "outputs": [],
      "execution_count": null,
      "metadata": {}
    },
    {
      "cell_type": "code",
      "source": [
        "np.save(\"train.npy\", train_data)"
      ],
      "outputs": [],
      "execution_count": 450,
      "metadata": {}
    },
    {
      "cell_type": "code",
      "source": [
        "y = np.stack(y) # num_counties, num_days\n",
        "temp_node_feats = np.stack(temp_node_feats) # num_counties, num_days, num_features\n",
        "static_node_feats = np.stack(static_node_feats).squeeze() # num_counties, num_features\n",
        "geo_feats = np.stack(geo_feats).astype(np.float) # num_counties, 2"
      ],
      "outputs": [],
      "execution_count": 443,
      "metadata": {}
    },
    {
      "cell_type": "code",
      "source": [
        "temp_node_feats.shape"
      ],
      "outputs": [
        {
          "output_type": "execute_result",
          "execution_count": 447,
          "data": {
            "text/plain": "(2942, 62, 7)"
          },
          "metadata": {}
        }
      ],
      "execution_count": 447,
      "metadata": {}
    },
    {
      "cell_type": "code",
      "source": [
        "def broadcasting_based_lng_lat(data1, data2):\n",
        "    # data1, data2 are the data arrays with 2 cols and they hold\n",
        "    # lat., lng. values in those cols respectively\n",
        "    data1 = np.deg2rad(data1)                     \n",
        "    data2 = np.deg2rad(data2)                     \n",
        "\n",
        "    lat1 = data1[:,0]                     \n",
        "    lng1 = data1[:,1]         \n",
        "\n",
        "    lat2 = data2[:,0]                     \n",
        "    lng2 = data2[:,1]         \n",
        "\n",
        "    diff_lat = lat1[:,None] - lat2\n",
        "    diff_lng = lng1[:,None] - lng2\n",
        "    d = np.sin(diff_lat/2)**2 + np.cos(lat1[:,None])*np.cos(lat2) * np.sin(diff_lng/2)**2\n",
        "    return 2 * 6371 * np.arcsin(np.sqrt(d))"
      ],
      "outputs": [],
      "execution_count": 227,
      "metadata": {}
    },
    {
      "cell_type": "code",
      "source": [],
      "outputs": [],
      "execution_count": null,
      "metadata": {}
    },
    {
      "cell_type": "code",
      "source": [
        "dist_matrix = broadcasting_based_lng_lat(geo_feats, geo_feats)"
      ],
      "outputs": [],
      "execution_count": 231,
      "metadata": {}
    },
    {
      "cell_type": "code",
      "source": [
        "edge_index = []\n",
        "for i in range(dist_matrix.shape[0]):\n",
        "    edge_index.append(dist_matrix[i].argsort()[:16])\n",
        "edge_index = np.stack(edge_index)"
      ],
      "outputs": [],
      "execution_count": 293,
      "metadata": {}
    },
    {
      "cell_type": "code",
      "source": [
        "geo_feats.shape"
      ],
      "outputs": [
        {
          "output_type": "execute_result",
          "execution_count": 379,
          "data": {
            "text/plain": "(2942, 2)"
          },
          "metadata": {}
        }
      ],
      "execution_count": 379,
      "metadata": {}
    },
    {
      "cell_type": "code",
      "source": [
        "edge_matrix = np.zeros(dist_matrix.shape)\n",
        "for i, topk in enumerate(edge_index):\n",
        "    edge_matrix[i, topk] = 1"
      ],
      "outputs": [],
      "execution_count": 309,
      "metadata": {}
    },
    {
      "cell_type": "code",
      "source": [
        "edge_matrix.shape"
      ],
      "outputs": [
        {
          "output_type": "execute_result",
          "execution_count": 375,
          "data": {
            "text/plain": "(2942, 2942)"
          },
          "metadata": {}
        }
      ],
      "execution_count": 375,
      "metadata": {}
    },
    {
      "cell_type": "code",
      "source": [
        "day_edge_matrix = []\n",
        "for day in range(flow_feats.shape[0]):\n",
        "    edge_matrix_2 = np.zeros(dist_matrix.shape)\n",
        "    for i, fip in enumerate(fips):\n",
        "        try:\n",
        "            cc = np.where(fips[i] == fips_count)[0][0]\n",
        "            edge_matrix_2[cc][fips_map_j] = flow_feats[day][i, fips_map_i]\n",
        "        except:\n",
        "            print(i, end=' ')\n",
        "            continue\n",
        "    day_edge_matrix.append(edge_matrix_2)"
      ],
      "outputs": [],
      "execution_count": null,
      "metadata": {}
    },
    {
      "cell_type": "code",
      "source": [
        "day_edge_matrix = np.stack(day_edge_matrix)"
      ],
      "outputs": [],
      "execution_count": 361,
      "metadata": {}
    },
    {
      "cell_type": "code",
      "source": [],
      "outputs": [],
      "execution_count": null,
      "metadata": {}
    },
    {
      "cell_type": "code",
      "source": [
        "day_edge_matrix.shape"
      ],
      "outputs": [
        {
          "output_type": "execute_result",
          "execution_count": 362,
          "data": {
            "text/plain": "(62, 2942, 2942)"
          },
          "metadata": {}
        }
      ],
      "execution_count": 362,
      "metadata": {}
    },
    {
      "cell_type": "code",
      "source": [
        "day_edge_matrix[day_edge_matrix<0.2] = 0\n",
        "day_edge_matrix += edge_matrix"
      ],
      "outputs": [],
      "execution_count": 376,
      "metadata": {}
    },
    {
      "cell_type": "code",
      "source": [
        "day_edge_matrix.shape "
      ],
      "outputs": [
        {
          "output_type": "execute_result",
          "execution_count": 374,
          "data": {
            "text/plain": "(62, 2942, 2942)"
          },
          "metadata": {}
        }
      ],
      "execution_count": 374,
      "metadata": {}
    },
    {
      "cell_type": "code",
      "source": [
        "fips_map_i = []\n",
        "fips_map_j = []\n",
        "\n",
        "for i in range(len(fips)):\n",
        "    try:\n",
        "        fips_map_j.append(np.where(fips[i] == fips_count)[0][0])\n",
        "        fips_map_i.append(i)\n",
        "    except:\n",
        "        continue\n",
        "        \n",
        "fips_map_i = np.array(fips_map_i)\n",
        "fips_map_j = np.array(fips_map_j)"
      ],
      "outputs": [],
      "execution_count": 366,
      "metadata": {}
    },
    {
      "cell_type": "code",
      "source": [
        "[i in fips_map_j for x in range(500)]"
      ],
      "outputs": [],
      "execution_count": null,
      "metadata": {}
    },
    {
      "cell_type": "code",
      "source": [
        "fips_map_j"
      ],
      "outputs": [
        {
          "output_type": "execute_result",
          "execution_count": 313,
          "data": {
            "text/plain": "array([   0,    1,    2, ..., 2937, 2938, 2939])"
          },
          "metadata": {}
        }
      ],
      "execution_count": 313,
      "metadata": {}
    },
    {
      "cell_type": "code",
      "source": [
        "flow_feats_corrected = -np.ones((flow_feats.shape[0], len(fips_count), len(fips_count)), dtype=flow_feats.dtype)\n",
        "for day in range(flow_feats.shape[0]):\n",
        "    flow_feats_corrected[day, fips_map_j, 0:][0:, fips_map_j] = flow_feats[day, fips_map_i, :][:, fips_map_i]\n",
        "    break"
      ],
      "outputs": [],
      "execution_count": 240,
      "metadata": {}
    },
    {
      "cell_type": "code",
      "source": [
        "flow_feats_corrected[day].shape"
      ],
      "outputs": [
        {
          "output_type": "execute_result",
          "execution_count": 243,
          "data": {
            "text/plain": "(2942, 2942)"
          },
          "metadata": {}
        }
      ],
      "execution_count": 243,
      "metadata": {}
    },
    {
      "cell_type": "code",
      "source": [
        "def replace_submatrix(mat, ind1, ind2, mat_replace):\n",
        "    for i, index in enumerate(ind1):\n",
        "        mat[index, ind2] = mat_replace[i, :]\n",
        "    return mat"
      ],
      "outputs": [],
      "execution_count": null,
      "metadata": {}
    },
    {
      "cell_type": "code",
      "source": [
        "replace_submatrix(flow_feats_corrected, )"
      ],
      "outputs": [
        {
          "output_type": "execute_result",
          "execution_count": 178,
          "data": {
            "text/plain": "0.0"
          },
          "metadata": {}
        }
      ],
      "execution_count": 178,
      "metadata": {}
    },
    {
      "cell_type": "code",
      "source": [
        "flow_feats_corrected[0, fips_map_j, :][0, :, fips_map_j]"
      ],
      "outputs": [
        {
          "output_type": "error",
          "ename": "IndexError",
          "evalue": "too many indices for array",
          "traceback": [
            "\u001b[0;31m---------------------------------------------------------------------------\u001b[0m",
            "\u001b[0;31mIndexError\u001b[0m                                Traceback (most recent call last)",
            "\u001b[0;32m<ipython-input-161-a6a2c01ab853>\u001b[0m in \u001b[0;36m<module>\u001b[0;34m\u001b[0m\n\u001b[0;32m----> 1\u001b[0;31m \u001b[0mflow_feats_corrected\u001b[0m\u001b[0;34m[\u001b[0m\u001b[0;36m0\u001b[0m\u001b[0;34m,\u001b[0m \u001b[0mfips_map_j\u001b[0m\u001b[0;34m,\u001b[0m \u001b[0;34m:\u001b[0m\u001b[0;34m]\u001b[0m\u001b[0;34m[\u001b[0m\u001b[0;36m0\u001b[0m\u001b[0;34m,\u001b[0m \u001b[0;34m:\u001b[0m\u001b[0;34m,\u001b[0m \u001b[0mfips_map_j\u001b[0m\u001b[0;34m]\u001b[0m\u001b[0;34m\u001b[0m\u001b[0;34m\u001b[0m\u001b[0m\n\u001b[0m",
            "\u001b[0;31mIndexError\u001b[0m: too many indices for array"
          ]
        }
      ],
      "execution_count": 161,
      "metadata": {}
    },
    {
      "cell_type": "code",
      "source": [
        "flow_feats_corrected[:, fips_map_j, :][:, :, fips_map_j].shape"
      ],
      "outputs": [
        {
          "output_type": "execute_result",
          "execution_count": 170,
          "data": {
            "text/plain": "(62, 1984, 1984)"
          },
          "metadata": {}
        }
      ],
      "execution_count": 170,
      "metadata": {}
    },
    {
      "cell_type": "code",
      "source": [],
      "outputs": [],
      "execution_count": null,
      "metadata": {
        "collapsed": false,
        "jupyter": {
          "outputs_hidden": false
        },
        "pycharm": {
          "name": "#%%\n"
        }
      }
    }
  ],
  "metadata": {
    "kernelspec": {
      "display_name": "Python 3",
      "language": "python",
      "name": "python3"
    },
    "language_info": {
      "codemirror_mode": {
        "name": "ipython",
        "version": 3
      },
      "file_extension": ".py",
      "mimetype": "text/x-python",
      "name": "python",
      "nbconvert_exporter": "python",
      "pygments_lexer": "ipython3",
      "version": "3.8.5"
    },
    "nteract": {
      "version": "0.26.0"
    }
  },
  "nbformat": 4,
  "nbformat_minor": 4
}