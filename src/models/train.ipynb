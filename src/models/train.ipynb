{
 "cells": [
  {
   "cell_type": "code",
   "execution_count": 1,
   "metadata": {},
   "outputs": [],
   "source": [
    "import numpy as np\n",
    "import torch\n",
    "from torch.utils.tensorboard import SummaryWriter\n",
    "\n",
    "from torch_geometric.data import DataLoader\n",
    "from tqdm import tqdm"
   ]
  },
  {
   "cell_type": "code",
   "execution_count": 2,
   "metadata": {},
   "outputs": [],
   "source": [
    "from dataset import COVIDDataset\n",
    "from st_gnn import SpatioTemporalGCN"
   ]
  },
  {
   "cell_type": "code",
   "execution_count": 3,
   "metadata": {},
   "outputs": [],
   "source": [
    "train_dataset = COVIDDataset('train')\n",
    "test_dataset = COVIDDataset('test', normalization_params=train_dataset.normalization_params)"
   ]
  },
  {
   "cell_type": "code",
   "execution_count": 10,
   "metadata": {},
   "outputs": [],
   "source": [
    "train_loader = DataLoader(train_dataset, batch_size=8, shuffle=True, num_workers=8)\n",
    "test_loader = DataLoader(test_dataset, batch_size=len(test_dataset))"
   ]
  },
  {
   "cell_type": "code",
   "execution_count": 11,
   "metadata": {},
   "outputs": [],
   "source": [
    "class RMSLELoss(torch.nn.Module):\n",
    "    def __init__(self):\n",
    "        super().__init__()\n",
    "        self.mse = torch.nn.MSELoss()\n",
    "        \n",
    "    def forward(self, pred, actual, mask=None):\n",
    "        if mask is None:\n",
    "            return torch.sqrt(self.mse(torch.log(pred + 1), torch.log(actual + 1)))\n",
    "        else:\n",
    "            return torch.sqrt(self.mse(torch.log(pred[mask] + 1), torch.log(actual[mask] + 1)))"
   ]
  },
  {
   "cell_type": "code",
   "execution_count": 12,
   "metadata": {},
   "outputs": [],
   "source": [
    "device = \"cuda:0\"\n",
    "\n",
    "model = SpatioTemporalGCN(num_temp_features=8, num_static_features=2).to(device)\n",
    "optimizer = torch.optim.Adam(model.parameters(), lr=0.001)\n",
    "writer = SummaryWriter()\n",
    "criterion = torch.nn.MSELoss()\n",
    "test_criterion = RMSLELoss()\n",
    "\n",
    "def train():\n",
    "    model.train()\n",
    "\n",
    "    total_loss = 0\n",
    "    for data in train_loader:\n",
    "        data = data.to(device)\n",
    "        optimizer.zero_grad()\n",
    "        out = model(data)\n",
    "        loss = criterion(out.squeeze(), data.y)\n",
    "        loss.backward()\n",
    "        total_loss += loss.item() \n",
    "        optimizer.step()\n",
    "    return total_loss / len(train_dataset)\n",
    "\n",
    "def test(loader):\n",
    "    model.eval()\n",
    "    data = next(iter(loader)).to(device)\n",
    "    with torch.no_grad():\n",
    "        pred_y = model(data)\n",
    "    mse = torch.sqrt(torch.mean((pred_y.squeeze() - data.y)**2))\n",
    "    rmsle = test_criterion(pred_y.squeeze(), data.y)\n",
    "    rmsle_20 = test_criterion(pred_y.squeeze(), data.y, data.tc.type(torch.bool))\n",
    "    return mse, rmsle, rmsle_20"
   ]
  },
  {
   "cell_type": "code",
   "execution_count": null,
   "metadata": {},
   "outputs": [],
   "source": []
  },
  {
   "cell_type": "code",
   "execution_count": 13,
   "metadata": {},
   "outputs": [],
   "source": [
    "def save(model, optimizer, epoch):\n",
    "    PATH = \"models/modeld_%d.pt\" % epoch\n",
    "    torch.save({\n",
    "                'epoch': epoch,\n",
    "                'model_state_dict': model.state_dict(),\n",
    "                'optimizer_state_dict': optimizer.state_dict(),\n",
    "                }, PATH)"
   ]
  },
  {
   "cell_type": "code",
   "execution_count": null,
   "metadata": {},
   "outputs": [
    {
     "name": "stderr",
     "output_type": "stream",
     "text": [
      "  0%|          | 72/99999 [02:10<52:49:44,  1.90s/it]"
     ]
    }
   ],
   "source": [
    "for epoch in tqdm(range(1, 100000)):\n",
    "    loss = train()\n",
    "    writer.add_scalar('loss', loss, epoch)\n",
    "    if epoch % 10 == 0:\n",
    "        train_mse, train_acc, train_acc_20 = test(train_loader)\n",
    "        test_mse, test_acc, test_acc_20 = test(test_loader)\n",
    "        writer.add_scalar('MSE/train', train_mse, epoch)\n",
    "        writer.add_scalar('RMSLE/train', train_acc, epoch)\n",
    "        writer.add_scalar('RMSLE/train_top_20', train_acc_20, epoch)\n",
    "        writer.add_scalar('MSE/test', test_mse, epoch)\n",
    "        writer.add_scalar('RMSLE/test', test_acc, epoch)\n",
    "        writer.add_scalar('RMSLE/test_top_20', test_acc_20, epoch)\n",
    "        # print('Epoch {:03d}, Loss: {:.4f}, Train: {:.4f}, Test: {:.4f}'.format(epoch, loss, train_acc, train_mse))\n",
    "        # print('Epoch {:03d}, Loss: {:.4f}, Train: {:.4f}, Test: {:.4f}'.format(epoch, loss, test_acc, test_mse))\n",
    "    if epoch % 50 == 0:\n",
    "        save(model, optimizer, epoch)"
   ]
  },
  {
   "cell_type": "code",
   "execution_count": null,
   "metadata": {},
   "outputs": [],
   "source": []
  },
  {
   "cell_type": "code",
   "execution_count": 24,
   "metadata": {},
   "outputs": [
    {
     "data": {
      "text/plain": [
       "(tensor(0.1221, device='cuda:0'),\n",
       " tensor(0.0228, device='cuda:0'),\n",
       " tensor(0.0078, device='cuda:0'))"
      ]
     },
     "execution_count": 24,
     "metadata": {},
     "output_type": "execute_result"
    }
   ],
   "source": [
    "test(test_loader)"
   ]
  },
  {
   "cell_type": "code",
   "execution_count": null,
   "metadata": {},
   "outputs": [],
   "source": [
    "4750"
   ]
  }
 ],
 "metadata": {
  "kernelspec": {
   "display_name": "Python 3",
   "language": "python",
   "name": "python3"
  },
  "language_info": {
   "codemirror_mode": {
    "name": "ipython",
    "version": 3
   },
   "file_extension": ".py",
   "mimetype": "text/x-python",
   "name": "python",
   "nbconvert_exporter": "python",
   "pygments_lexer": "ipython3",
   "version": "3.8.5"
  }
 },
 "nbformat": 4,
 "nbformat_minor": 4
}
